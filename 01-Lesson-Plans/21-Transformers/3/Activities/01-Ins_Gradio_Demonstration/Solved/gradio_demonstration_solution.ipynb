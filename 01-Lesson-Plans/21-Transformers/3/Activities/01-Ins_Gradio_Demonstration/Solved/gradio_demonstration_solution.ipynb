{
 "cells": [
  {
   "cell_type": "code",
   "execution_count": 1,
   "metadata": {
    "colab": {
     "base_uri": "https://localhost:8080/"
    },
    "executionInfo": {
     "elapsed": 28096,
     "status": "ok",
     "timestamp": 1682628228135,
     "user": {
      "displayName": "Tom Berton",
      "userId": "17391148152994554905"
     },
     "user_tz": 300
    },
    "id": "AiswgMWjkgIb",
    "outputId": "c8a060b3-a7de-4603-f6e1-8a31101a68cc"
   },
   "outputs": [],
   "source": [
    "# Uncomment the following code if you are using Colab.\n",
    "# !pip install gradio"
   ]
  },
  {
   "cell_type": "code",
   "execution_count": 2,
   "metadata": {
    "id": "zeLyO6V3kwkL"
   },
   "outputs": [],
   "source": [
    "# Create a function that takes in a message. \n",
    "def run(msg):\n",
    "    return f'Returning this message: {msg}'\n",
    "\n",
    "# Define an input for the message you want to send.\n",
    "message = input(\"What is the message you want to send? \")"
   ]
  },
  {
   "cell_type": "code",
   "execution_count": 3,
   "metadata": {
    "colab": {
     "base_uri": "https://localhost:8080/"
    },
    "executionInfo": {
     "elapsed": 136,
     "status": "ok",
     "timestamp": 1682628552074,
     "user": {
      "displayName": "Tom Berton",
      "userId": "17391148152994554905"
     },
     "user_tz": 300
    },
    "id": "IHDHOQmWk40r",
    "outputId": "71304ba1-2b04-4f75-a1ba-f5cec06c8e57"
   },
   "outputs": [
    {
     "name": "stdout",
     "output_type": "stream",
     "text": [
      "Returning this message: hello\n"
     ]
    }
   ],
   "source": [
    "# Call the function.\n",
    "new_message = run(message)\n",
    "print(new_message)"
   ]
  },
  {
   "cell_type": "markdown",
   "metadata": {
    "id": "CFlNsVjklCJa"
   },
   "source": [
    "### Modify the code so we can interact with the application."
   ]
  },
  {
   "cell_type": "code",
   "execution_count": 4,
   "metadata": {
    "id": "6BGLBBrxkoRo"
   },
   "outputs": [
    {
     "name": "stderr",
     "output_type": "stream",
     "text": [
      "c:\\Users\\hafto\\anaconda3\\lib\\site-packages\\tqdm\\auto.py:21: TqdmWarning: IProgress not found. Please update jupyter and ipywidgets. See https://ipywidgets.readthedocs.io/en/stable/user_install.html\n",
      "  from .autonotebook import tqdm as notebook_tqdm\n"
     ]
    }
   ],
   "source": [
    "# Import gradio \n",
    "import gradio as gr"
   ]
  },
  {
   "cell_type": "code",
   "execution_count": 5,
   "metadata": {
    "colab": {
     "base_uri": "https://localhost:8080/",
     "height": 618
    },
    "executionInfo": {
     "elapsed": 676,
     "status": "ok",
     "timestamp": 1682628572642,
     "user": {
      "displayName": "Tom Berton",
      "userId": "17391148152994554905"
     },
     "user_tz": 300
    },
    "id": "_YuLdZwClByQ",
    "outputId": "28126f93-a2b8-4500-bb1b-1118b2902b03"
   },
   "outputs": [
    {
     "name": "stdout",
     "output_type": "stream",
     "text": [
      "Running on local URL:  http://127.0.0.1:7860\n",
      "\n",
      "To create a public link, set `share=True` in `launch()`.\n"
     ]
    },
    {
     "data": {
      "text/html": [
       "<div><iframe src=\"http://127.0.0.1:7860/\" width=\"100%\" height=\"500\" allow=\"autoplay; camera; microphone; clipboard-read; clipboard-write;\" frameborder=\"0\" allowfullscreen></iframe></div>"
      ],
      "text/plain": [
       "<IPython.core.display.HTML object>"
      ]
     },
     "metadata": {},
     "output_type": "display_data"
    },
    {
     "data": {
      "text/plain": []
     },
     "execution_count": 5,
     "metadata": {},
     "output_type": "execute_result"
    }
   ],
   "source": [
    "# Create a function that takes in a message. \n",
    "def run(msg):\n",
    "    return f'Returning this message: {msg}'\n",
    "\n",
    "# Create an instance of the Gradio Interface application function with the following parameters. \n",
    "app = gr.Interface(fn=run, inputs=\"text\", outputs=\"text\")\n",
    "\n",
    "# Launch the app\n",
    "app.launch()"
   ]
  },
  {
   "cell_type": "code",
   "execution_count": 6,
   "metadata": {
    "colab": {
     "base_uri": "https://localhost:8080/",
     "height": 592
    },
    "executionInfo": {
     "elapsed": 4823,
     "status": "ok",
     "timestamp": 1682628852459,
     "user": {
      "displayName": "Tom Berton",
      "userId": "17391148152994554905"
     },
     "user_tz": 300
    },
    "id": "olMg6MCIlPS5",
    "outputId": "c1557624-fd05-4aba-858d-a2e82f076aa2"
   },
   "outputs": [
    {
     "name": "stdout",
     "output_type": "stream",
     "text": [
      "Running on local URL:  http://127.0.0.1:7861\n",
      "\n",
      "Could not create share link. Please check your internet connection or our status page: https://status.gradio.app.\n"
     ]
    },
    {
     "data": {
      "text/html": [
       "<div><iframe src=\"http://127.0.0.1:7861/\" width=\"100%\" height=\"500\" allow=\"autoplay; camera; microphone; clipboard-read; clipboard-write;\" frameborder=\"0\" allowfullscreen></iframe></div>"
      ],
      "text/plain": [
       "<IPython.core.display.HTML object>"
      ]
     },
     "metadata": {},
     "output_type": "display_data"
    },
    {
     "data": {
      "text/plain": []
     },
     "execution_count": 6,
     "metadata": {},
     "output_type": "execute_result"
    }
   ],
   "source": [
    "# Create a function that takes in a message. \n",
    "def run(msg):\n",
    "    return f'Returning this message: {msg}'\n",
    "\n",
    "# Create an instance of the Gradio Interface application function with the following parameters. \n",
    "app = gr.Interface(fn=run, inputs=\"text\", outputs=\"text\")\n",
    "\n",
    "# Launch the app\n",
    "app.launch(share=True)"
   ]
  },
  {
   "cell_type": "code",
   "execution_count": 7,
   "metadata": {
    "colab": {
     "base_uri": "https://localhost:8080/",
     "height": 618
    },
    "executionInfo": {
     "elapsed": 378,
     "status": "ok",
     "timestamp": 1682629098241,
     "user": {
      "displayName": "Tom Berton",
      "userId": "17391148152994554905"
     },
     "user_tz": 300
    },
    "id": "SQ3hQ-3vl-7-",
    "outputId": "e5030007-81d0-46cc-85ae-26d65acffb53"
   },
   "outputs": [
    {
     "name": "stdout",
     "output_type": "stream",
     "text": [
      "Running on local URL:  http://127.0.0.1:7862\n",
      "\n",
      "To create a public link, set `share=True` in `launch()`.\n"
     ]
    },
    {
     "data": {
      "text/html": [
       "<div><iframe src=\"http://127.0.0.1:7862/\" width=\"100%\" height=\"500\" allow=\"autoplay; camera; microphone; clipboard-read; clipboard-write;\" frameborder=\"0\" allowfullscreen></iframe></div>"
      ],
      "text/plain": [
       "<IPython.core.display.HTML object>"
      ]
     },
     "metadata": {},
     "output_type": "display_data"
    },
    {
     "data": {
      "text/plain": []
     },
     "execution_count": 7,
     "metadata": {},
     "output_type": "execute_result"
    }
   ],
   "source": [
    "# Create a savings interest calculator function that takes \n",
    "# the balance, apr, and number of days, and returns the interest for the number of days. \n",
    "def calculate_interest(balance, apr, days):\n",
    "    \"\"\"\n",
    "    Calculate the interest earned on a balance based on the annual percentage rate (APR) over a specified number of days.\n",
    "\n",
    "    Parameters:\n",
    "    - balance (float): The initial balance or principal amount.\n",
    "    - apr (float): The Annual Percentage Rate (APR) as a percentage.\n",
    "    - days (int): The number of days for which interest is calculated.\n",
    "\n",
    "    Returns:\n",
    "    float: The interest earned rounded to 2 decimal places.\n",
    "    \"\"\"\n",
    "    apr_decimal = apr/100\n",
    "    interest_rate = apr_decimal * (days/365)\n",
    "    interest_earned = balance * interest_rate\n",
    "    return round(interest_earned,2)\n",
    "\n",
    "# Create an instance of the Gradio Interface application function with the following parameters. \n",
    "app = gr.Interface(fn=calculate_interest, \n",
    "                   inputs=[\"number\",\"number\", 'number'], outputs=\"number\")\n",
    "# Launch the app\n",
    "app.launch()"
   ]
  },
  {
   "cell_type": "code",
   "execution_count": null,
   "metadata": {},
   "outputs": [],
   "source": []
  }
 ],
 "metadata": {
  "colab": {
   "authorship_tag": "ABX9TyMgmf1Udn3kIgZX4dfAQG/i",
   "provenance": []
  },
  "kernelspec": {
   "display_name": "Python 3 (ipykernel)",
   "language": "python",
   "name": "python3"
  },
  "language_info": {
   "codemirror_mode": {
    "name": "ipython",
    "version": 3
   },
   "file_extension": ".py",
   "mimetype": "text/x-python",
   "name": "python",
   "nbconvert_exporter": "python",
   "pygments_lexer": "ipython3",
   "version": "3.10.13"
  }
 },
 "nbformat": 4,
 "nbformat_minor": 4
}
